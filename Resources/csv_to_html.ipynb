{
 "cells": [
  {
   "cell_type": "code",
   "execution_count": 1,
   "metadata": {},
   "outputs": [
    {
     "data": {
      "text/html": [
       "<div>\n",
       "<style scoped>\n",
       "    .dataframe tbody tr th:only-of-type {\n",
       "        vertical-align: middle;\n",
       "    }\n",
       "\n",
       "    .dataframe tbody tr th {\n",
       "        vertical-align: top;\n",
       "    }\n",
       "\n",
       "    .dataframe thead th {\n",
       "        text-align: right;\n",
       "    }\n",
       "</style>\n",
       "<table border=\"1\" class=\"dataframe\">\n",
       "  <thead>\n",
       "    <tr style=\"text-align: right;\">\n",
       "      <th></th>\n",
       "      <th>City</th>\n",
       "      <th>Lat</th>\n",
       "      <th>Lng</th>\n",
       "      <th>Max Temp</th>\n",
       "      <th>Humidity</th>\n",
       "      <th>Cloudiness</th>\n",
       "      <th>Wind Speed</th>\n",
       "      <th>Country</th>\n",
       "      <th>Date</th>\n",
       "    </tr>\n",
       "  </thead>\n",
       "  <tbody>\n",
       "    <tr>\n",
       "      <th>0</th>\n",
       "      <td>Khromtau</td>\n",
       "      <td>50.2503</td>\n",
       "      <td>58.4347</td>\n",
       "      <td>79.86</td>\n",
       "      <td>30</td>\n",
       "      <td>100</td>\n",
       "      <td>4.16</td>\n",
       "      <td>KZ</td>\n",
       "      <td>1658642889</td>\n",
       "    </tr>\n",
       "    <tr>\n",
       "      <th>1</th>\n",
       "      <td>Kosmynino</td>\n",
       "      <td>57.5818</td>\n",
       "      <td>40.7643</td>\n",
       "      <td>74.68</td>\n",
       "      <td>55</td>\n",
       "      <td>0</td>\n",
       "      <td>6.46</td>\n",
       "      <td>RU</td>\n",
       "      <td>1658642889</td>\n",
       "    </tr>\n",
       "    <tr>\n",
       "      <th>2</th>\n",
       "      <td>Hobart</td>\n",
       "      <td>-42.8794</td>\n",
       "      <td>147.3294</td>\n",
       "      <td>59.25</td>\n",
       "      <td>79</td>\n",
       "      <td>75</td>\n",
       "      <td>4.61</td>\n",
       "      <td>AU</td>\n",
       "      <td>1658642709</td>\n",
       "    </tr>\n",
       "    <tr>\n",
       "      <th>3</th>\n",
       "      <td>Albany</td>\n",
       "      <td>42.6001</td>\n",
       "      <td>-73.9662</td>\n",
       "      <td>73.44</td>\n",
       "      <td>70</td>\n",
       "      <td>52</td>\n",
       "      <td>2.82</td>\n",
       "      <td>US</td>\n",
       "      <td>1658642748</td>\n",
       "    </tr>\n",
       "    <tr>\n",
       "      <th>4</th>\n",
       "      <td>Zhigansk</td>\n",
       "      <td>66.7697</td>\n",
       "      <td>123.3711</td>\n",
       "      <td>64.96</td>\n",
       "      <td>59</td>\n",
       "      <td>33</td>\n",
       "      <td>9.75</td>\n",
       "      <td>RU</td>\n",
       "      <td>1658642890</td>\n",
       "    </tr>\n",
       "  </tbody>\n",
       "</table>\n",
       "</div>"
      ],
      "text/plain": [
       "        City      Lat       Lng  Max Temp  Humidity  Cloudiness  Wind Speed  \\\n",
       "0   Khromtau  50.2503   58.4347     79.86        30         100        4.16   \n",
       "1  Kosmynino  57.5818   40.7643     74.68        55           0        6.46   \n",
       "2     Hobart -42.8794  147.3294     59.25        79          75        4.61   \n",
       "3     Albany  42.6001  -73.9662     73.44        70          52        2.82   \n",
       "4   Zhigansk  66.7697  123.3711     64.96        59          33        9.75   \n",
       "\n",
       "  Country        Date  \n",
       "0      KZ  1658642889  \n",
       "1      RU  1658642889  \n",
       "2      AU  1658642709  \n",
       "3      US  1658642748  \n",
       "4      RU  1658642890  "
      ]
     },
     "execution_count": 1,
     "metadata": {},
     "output_type": "execute_result"
    }
   ],
   "source": [
    "import pandas as pd\n",
    "\n",
    "df = pd.read_csv(\"Cities.csv\")\n",
    "df.head()"
   ]
  },
  {
   "cell_type": "code",
   "execution_count": 2,
   "metadata": {},
   "outputs": [],
   "source": [
    "df.to_html(\"Cities_Dataset.html\")"
   ]
  },
  {
   "cell_type": "code",
   "execution_count": null,
   "metadata": {},
   "outputs": [],
   "source": []
  }
 ],
 "metadata": {
  "kernelspec": {
   "display_name": "Python 3 (ipykernel)",
   "language": "python",
   "name": "python3"
  },
  "language_info": {
   "codemirror_mode": {
    "name": "ipython",
    "version": 3
   },
   "file_extension": ".py",
   "mimetype": "text/x-python",
   "name": "python",
   "nbconvert_exporter": "python",
   "pygments_lexer": "ipython3",
   "version": "3.9.7"
  },
  "vscode": {
   "interpreter": {
    "hash": "9cf29d0864b96b85d070d63c0cb1442d94a1313f8dd3f95f9b7f83ecbfdb16b3"
   }
  }
 },
 "nbformat": 4,
 "nbformat_minor": 4
}
